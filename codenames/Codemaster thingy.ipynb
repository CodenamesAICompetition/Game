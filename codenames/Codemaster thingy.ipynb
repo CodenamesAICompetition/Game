{
 "cells": [
  {
   "cell_type": "code",
   "execution_count": 1,
   "metadata": {},
   "outputs": [],
   "source": [
    "\n",
    "import gensim.models.keyedvectors as word2vec\n",
    "import gensim.downloader as api\n",
    "import numpy as np\n",
    "import scipy\n",
    "import itertools"
   ]
  },
  {
   "cell_type": "code",
   "execution_count": 2,
   "metadata": {},
   "outputs": [
    {
     "name": "stdout",
     "output_type": "stream",
     "text": [
      "loaded word vectors\n"
     ]
    }
   ],
   "source": [
    "glove_vecs = {}\n",
    "word_vectors = word2vec.KeyedVectors.load_word2vec_format(\n",
    "'players/GoogleNews-vectors-negative300.bin', binary=True, unicode_errors='ignore')\n",
    "print('loaded word vectors')"
   ]
  },
  {
   "cell_type": "code",
   "execution_count": 3,
   "metadata": {},
   "outputs": [],
   "source": [
    "with open('players/glove/glove.6B.300d.txt') as infile:\n",
    "    for line in infile:\n",
    "        line = line.rstrip().split(' ')\n",
    "        glove_vecs[line[0]] = np.array([float(n) for n in line[1:]])"
   ]
  },
  {
   "cell_type": "code",
   "execution_count": 4,
   "metadata": {},
   "outputs": [],
   "source": [
    "with open('revised.txt','w') as outfile:\n",
    "    with open('players/cm_wordlist.txt') as infile:\n",
    "        for line in infile:\n",
    "            word = line.rstrip()\n",
    "            try:\n",
    "                word_vectors[word]\n",
    "                glove_vecs[word]\n",
    "                outfile.write(word + '\\n')\n",
    "            except:\n",
    "                continue"
   ]
  },
  {
   "cell_type": "code",
   "execution_count": 5,
   "metadata": {},
   "outputs": [],
   "source": [
    "cm_wordlist = []\n",
    "with open('players/cm_wordlist.txt') as infile:\n",
    "    for line in infile:\n",
    "        word = line.rstrip()\n",
    "        cm_wordlist.append(word)\n",
    "        "
   ]
  },
  {
   "cell_type": "code",
   "execution_count": 11,
   "metadata": {},
   "outputs": [],
   "source": [
    "\n",
    "red_words = ['centaur']\n",
    "\n",
    "\n",
    "def combine(words,wordvecs):\n",
    "    factor = 1.0/float(len(words))\n",
    "    new_word = concatenate(words[0],wordvecs)*factor\n",
    "    for word in words[1:]:\n",
    "        new_word += concatenate(word,wordvecs)*factor\n",
    "    return new_word\n",
    "\n",
    "def concatenate(word,wordvecs):\n",
    "    concatenated = wordvecs[0][word]\n",
    "    for vec in wordvecs[1:]:\n",
    "        concatenated = np.hstack((concatenated,vec[word] ))\n",
    "    return concatenated"
   ]
  },
  {
   "cell_type": "code",
   "execution_count": 12,
   "metadata": {},
   "outputs": [],
   "source": [
    "def filter(word):\n",
    "    if word in red_words:\n",
    "        return False\n",
    "    for red in red_words:\n",
    "        if red.find(word) != -1:\n",
    "            return False\n",
    "        if word.find(red) != -1:\n",
    "            return False\n",
    "    return True\n",
    "            \n",
    "\n",
    "all_vectors = (word_vectors,glove_vecs,)\n",
    "bests = {}\n",
    "for clue_num in range(1,4+1):\n",
    "    best_per_dist = np.inf\n",
    "    best_per = ''\n",
    "    best_red_word = ''\n",
    "    for red_word in list(itertools.combinations(red_words,clue_num)):\n",
    "        #REPLACE THIS FOR NLTK STUFF\n",
    "        combined_word = combine(red_word,all_vectors)\n",
    "        best_word = ''\n",
    "        best_dist = np.inf\n",
    "        for word in cm_wordlist:\n",
    "            if not filter(word):\n",
    "                continue\n",
    "            #REPLACE COSINE DISTANCE FOR NLTK STUFF\n",
    "            distance = scipy.spatial.distance.cosine(combined_word,concatenate(word,all_vectors))\n",
    "            if distance < best_dist:\n",
    "                best_dist = distance\n",
    "                best_word = word\n",
    "                if best_dist < best_per_dist:\n",
    "                    best_per_dist = best_dist\n",
    "                    best_per = best_word\n",
    "                    best_red_word = red_word\n",
    "    \n",
    "    bests[clue_num] = (best_red_word,best_per,best_per_dist)"
   ]
  },
  {
   "cell_type": "code",
   "execution_count": 13,
   "metadata": {
    "scrolled": true
   },
   "outputs": [
    {
     "name": "stdout",
     "output_type": "stream",
     "text": [
      "1.0 ('centaur',) centaur atlas 0.6969345487376393\n",
      "nan    inf\n",
      "nan    inf\n",
      "nan    inf\n"
     ]
    }
   ],
   "source": [
    "for clue_num, clue in bests.items():\n",
    "    best_red_word,combined_clue,combined_score = clue\n",
    "    worst = -np.inf\n",
    "    best = np.inf\n",
    "    worst_word = ''\n",
    "    for word in best_red_word:\n",
    "        dist = scipy.spatial.distance.cosine(concatenate(word,all_vectors),concatenate(combined_clue,all_vectors))\n",
    "        if dist > worst:\n",
    "            worst_word = word\n",
    "            worst = dist\n",
    "        if dist < best:\n",
    "            best = dist\n",
    "            \n",
    "    print(worst/best,best_red_word,worst_word,combined_clue,combined_score)"
   ]
  },
  {
   "cell_type": "code",
   "execution_count": null,
   "metadata": {},
   "outputs": [],
   "source": []
  }
 ],
 "metadata": {
  "kernelspec": {
   "display_name": "Python 3",
   "language": "python",
   "name": "python3"
  },
  "language_info": {
   "codemirror_mode": {
    "name": "ipython",
    "version": 3
   },
   "file_extension": ".py",
   "mimetype": "text/x-python",
   "name": "python",
   "nbconvert_exporter": "python",
   "pygments_lexer": "ipython3",
   "version": "3.6.6"
  }
 },
 "nbformat": 4,
 "nbformat_minor": 2
}
