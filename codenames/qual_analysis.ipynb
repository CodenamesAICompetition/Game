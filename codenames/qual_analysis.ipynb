{
 "cells": [
  {
   "cell_type": "code",
   "execution_count": 1,
   "metadata": {},
   "outputs": [],
   "source": [
    "\n",
    "import numpy as np\n",
    "import scipy\n",
    "import itertools\n",
    "import importlib\n",
    "import random\n",
    "import array\n",
    "import os\n",
    "import sys\n",
    "import colorama\n",
    "import gensim.models.keyedvectors as word2vec\n",
    "import gensim.downloader as api\n"
   ]
  },
  {
   "cell_type": "code",
   "execution_count": 4,
   "metadata": {},
   "outputs": [],
   "source": [
    "glove_vecs = {}\n",
    "with open('players/glove/glove.6B.50d.txt', encoding=\"utf-8\") as infile:\n",
    "    for line in infile:\n",
    "        line = line.rstrip().split(' ')\n",
    "        glove_vecs[line[0]] = np.array([float(n) for n in line[1:]])"
   ]
  },
  {
   "cell_type": "code",
   "execution_count": 19,
   "metadata": {},
   "outputs": [
    {
     "name": "stdout",
     "output_type": "stream",
     "text": [
      "0.6528636239512445\n",
      "0.8033901146455563\n",
      "0.3162351634212188\n",
      "0.7152384393253666\n"
     ]
    }
   ],
   "source": [
    "print(scipy.spatial.distance.cosine(glove_vecs['china'],glove_vecs['cup']))\n",
    "print(scipy.spatial.distance.cosine(glove_vecs['mug'],glove_vecs['cup']))\n",
    "print(scipy.spatial.distance.cosine(glove_vecs['bag'],glove_vecs['mug']))\n",
    "print(scipy.spatial.distance.cosine(glove_vecs['cup'],glove_vecs['glass']))"
   ]
  },
  {
   "cell_type": "code",
   "execution_count": null,
   "metadata": {},
   "outputs": [],
   "source": []
  }
 ],
 "metadata": {
  "kernelspec": {
   "display_name": "Python 3",
   "language": "python",
   "name": "python3"
  },
  "language_info": {
   "codemirror_mode": {
    "name": "ipython",
    "version": 3
   },
   "file_extension": ".py",
   "mimetype": "text/x-python",
   "name": "python",
   "nbconvert_exporter": "python",
   "pygments_lexer": "ipython3",
   "version": "3.6.8"
  }
 },
 "nbformat": 4,
 "nbformat_minor": 2
}
