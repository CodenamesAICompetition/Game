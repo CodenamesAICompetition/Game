{
 "cells": [
  {
   "cell_type": "code",
   "execution_count": 3,
   "metadata": {},
   "outputs": [],
   "source": [
    "\n",
    "import gensim.models.keyedvectors as word2vec\n",
    "import gensim.downloader as api\n",
    "import numpy as np"
   ]
  },
  {
   "cell_type": "code",
   "execution_count": null,
   "metadata": {},
   "outputs": [],
   "source": [
    "glove_vecs = {}\n",
    "word_vectors = word2vec.KeyedVectors.load_word2vec_format(\n",
    "'players/GoogleNews-vectors-negative300.bin', binary=True, unicode_errors='ignore')\n",
    "print('loaded word vectors')"
   ]
  },
  {
   "cell_type": "code",
   "execution_count": 4,
   "metadata": {},
   "outputs": [],
   "source": [
    "with open('players/glove/glove.6B.300d.txt') as infile:\n",
    "    for line in infile:\n",
    "        line = line.rstrip().split(' ')\n",
    "        glove_vecs[line[0]] = np.array([float(n) for n in line[1:]])"
   ]
  },
  {
   "cell_type": "code",
   "execution_count": 6,
   "metadata": {},
   "outputs": [],
   "source": [
    "with open('revised.txt','w') as outfile:\n",
    "    with open('players/cm_wordlist.txt') as infile:\n",
    "        for line in infile:\n",
    "            word = line.rstrip()\n",
    "            try:\n",
    "                word_vectors[word]\n",
    "                glove_vecs[word]\n",
    "                outfile.write(word + '\\n')\n",
    "            except:\n",
    "                continue"
   ]
  },
  {
   "cell_type": "code",
   "execution_count": null,
   "metadata": {},
   "outputs": [],
   "source": []
  }
 ],
 "metadata": {
  "kernelspec": {
   "display_name": "Python 3",
   "language": "python",
   "name": "python3"
  },
  "language_info": {
   "codemirror_mode": {
    "name": "ipython",
    "version": 3
   },
   "file_extension": ".py",
   "mimetype": "text/x-python",
   "name": "python",
   "nbconvert_exporter": "python",
   "pygments_lexer": "ipython3",
   "version": "3.6.6"
  }
 },
 "nbformat": 4,
 "nbformat_minor": 2
}
