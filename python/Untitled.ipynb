{
 "cells": [
  {
   "cell_type": "code",
   "execution_count": 1,
   "metadata": {},
   "outputs": [],
   "source": [
    "\n",
    "import gensim.models.keyedvectors as word2vec\n",
    "import gensim.downloader as api\n",
    "import itertools\n",
    "import numpy as np\n",
    "import random\n",
    "import scipy\n",
    "\n",
    "word_vectors = word2vec.KeyedVectors.load_word2vec_format(\n",
    "            'players/GoogleNews-vectors-negative300.bin', binary=True, unicode_errors='ignore')"
   ]
  },
  {
   "cell_type": "code",
   "execution_count": 8,
   "metadata": {},
   "outputs": [],
   "source": [
    "egypt = word_vectors['egypt']\n",
    "mercury = word_vectors['mercury']"
   ]
  },
  {
   "cell_type": "code",
   "execution_count": 12,
   "metadata": {},
   "outputs": [],
   "source": [
    "words = []\n",
    "with open('cm_wordlist.txt') as infile:\n",
    "    for line in infile:\n",
    "        words.append(line.rstrip())\n",
    "        \n",
    "        \n",
    "    "
   ]
  },
  {
   "cell_type": "code",
   "execution_count": 39,
   "metadata": {},
   "outputs": [
    {
     "name": "stdout",
     "output_type": "stream",
     "text": [
      "0.9510785490274429 zum\n",
      "0.8612709939479828 zoo\n",
      "0.832399919629097 yesterday\n",
      "0.8248379826545715 yellow\n",
      "0.8067966103553772 yea\n",
      "0.7756934016942978 worship\n",
      "0.7011967897415161 wooden\n",
      "0.7008840441703796 tower\n",
      "0.633061945438385 smoke\n",
      "0.5147822797298431 fires\n",
      "0.4910765290260315 alarm\n"
     ]
    }
   ],
   "source": [
    "best = np.inf\n",
    "\n",
    "from numpy import *\n",
    "from numpy.linalg import norm\n",
    "\n",
    "def slerp(p0, p1, t):\n",
    "        omega = arccos(dot(p0/norm(p0), p1/norm(p1)))\n",
    "        so = sin(omega)\n",
    "        return sin((1.0-t)*omega) / so * p0 + sin(t*omega)/so * p1\n",
    "guess = ['fire','bell']\n",
    "for word in reversed(words):\n",
    "    try:\n",
    "        dist = scipy.spatial.distance.cosine(\n",
    "                word_vectors[word],slerp(word_vectors[guess[0]],\n",
    "                                         word_vectors[guess[1]],0.5))\n",
    "\n",
    "        if dist < best and word not in guess:\n",
    "            best = dist\n",
    "            print(best,word)\n",
    "    except:\n",
    "        continue\n",
    "        \n",
    "        "
   ]
  },
  {
   "cell_type": "code",
   "execution_count": 1,
   "metadata": {},
   "outputs": [
    {
     "ename": "SyntaxError",
     "evalue": "invalid syntax (<ipython-input-1-adae42e993c9>, line 1)",
     "output_type": "error",
     "traceback": [
      "\u001b[0;36m  File \u001b[0;32m\"<ipython-input-1-adae42e993c9>\"\u001b[0;36m, line \u001b[0;32m1\u001b[0m\n\u001b[0;31m    MERCURY      FOOD          BILL        FIRE\u001b[0m\n\u001b[0m                    ^\u001b[0m\n\u001b[0;31mSyntaxError\u001b[0m\u001b[0;31m:\u001b[0m invalid syntax\n"
     ]
    }
   ],
   "source": [
    " MERCURY      FOOD          BILL        FIRE     \n",
    " CHICKE       STAFF       KIWI        KEY\n",
    "0.9510785602033138 zum\n",
    "0.8612709939479828 zoo\n",
    "0.832399919629097 yesterday\n",
    "0.8248379826545715 yellow\n",
    "0.8067966252565384 yea\n",
    "0.7756933569908142 worship\n",
    "0.7011968195438385 wooden\n",
    "0.700884073972702 tower\n",
    "0.6330618858337402 smoke\n",
    "0.514782190322876 fires\n",
    "0.4910765290260315 alarm"
   ]
  },
  {
   "cell_type": "code",
   "execution_count": 5,
   "metadata": {},
   "outputs": [],
   "source": [
    "import importlib \n",
    "\n"
   ]
  },
  {
   "cell_type": "code",
   "execution_count": 4,
   "metadata": {},
   "outputs": [
    {
     "data": {
      "text/plain": [
       "array([1., 1., 1., 1., 1.])"
      ]
     },
     "execution_count": 4,
     "metadata": {},
     "output_type": "execute_result"
    }
   ],
   "source": []
  },
  {
   "cell_type": "code",
   "execution_count": null,
   "metadata": {},
   "outputs": [],
   "source": []
  }
 ],
 "metadata": {
  "kernelspec": {
   "display_name": "Python 3",
   "language": "python",
   "name": "python3"
  },
  "language_info": {
   "codemirror_mode": {
    "name": "ipython",
    "version": 3
   },
   "file_extension": ".py",
   "mimetype": "text/x-python",
   "name": "python",
   "nbconvert_exporter": "python",
   "pygments_lexer": "ipython3",
   "version": "3.6.6"
  }
 },
 "nbformat": 4,
 "nbformat_minor": 2
}
