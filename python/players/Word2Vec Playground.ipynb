{
 "cells": [
  {
   "cell_type": "code",
   "execution_count": 2,
   "metadata": {},
   "outputs": [],
   "source": [
    "import gensim\n",
    "\n",
    "model = gensim.models.KeyedVectors.load_word2vec_format('GoogleNews-vectors-negative300.bin', binary=True) "
   ]
  },
  {
   "cell_type": "markdown",
   "metadata": {},
   "source": [
    "# This is our playground\n",
    "$m^a + t - h = \\sum^j_i \\frac{1}{n}$"
   ]
  },
  {
   "cell_type": "code",
   "execution_count": 34,
   "metadata": {},
   "outputs": [
    {
     "name": "stdout",
     "output_type": "stream",
     "text": [
      "('berry', 'calf') \n",
      " ('berries', 0.5456267595291138)\n",
      "\t('calves', 0.5298152565956116)\n",
      "\t('raspberries', 0.5151577591896057)\n",
      "\t('pear', 0.5056832432746887)\n",
      "\t('cherries', 0.5015060305595398)\n",
      "('berry', 'turkey') \n",
      " ('berries', 0.6389959454536438)\n",
      "\t('rhubarb', 0.604142963886261)\n",
      "\t('blueberries', 0.5987715721130371)\n",
      "\t('asparagus', 0.5908001661300659)\n",
      "\t('cranberries', 0.588399350643158)\n",
      "\t('pecans', 0.5882866978645325)\n",
      "\t('peaches', 0.5836964845657349)\n",
      "\t('pumpkin', 0.5826101899147034)\n",
      "('berry', 'heart') \n",
      " \n",
      "('berry', 'switch') \n",
      " \n",
      "('berry', 'fork') \n",
      " ('pear', 0.5326906442642212)\n",
      "\t('berries', 0.5282820463180542)\n",
      "\t('zukes', 0.5156183242797852)\n",
      "\t('asparagus', 0.511249840259552)\n",
      "('berry', 'bug') \n",
      " ('apple', 0.5460902452468872)\n",
      "\t('fungus', 0.5296905636787415)\n",
      "\t('berries', 0.5281895995140076)\n",
      "('berry', 'ice') \n",
      " ('berries', 0.5746721625328064)\n",
      "\t('blueberries', 0.5326584577560425)\n",
      "\t('rhubarb', 0.5253106951713562)\n",
      "\t('raspberries', 0.5207307934761047)\n",
      "\t('marionberries', 0.5161784291267395)\n",
      "('calf', 'turkey') \n",
      " ('calves', 0.5747206807136536)\n",
      "\t('lamb', 0.5551652312278748)\n",
      "\t('backstraps', 0.5221415162086487)\n",
      "\t('hindquarter', 0.521355152130127)\n",
      "\t('chicken', 0.5198767185211182)\n",
      "\t('lambs', 0.5178198218345642)\n",
      "\t('goose', 0.5177143216133118)\n",
      "('calf', 'heart') \n",
      " ('knee', 0.5168165564537048)\n",
      "\t('thigh', 0.5160198211669922)\n",
      "\t('tendon', 0.5101341009140015)\n",
      "\t('ankle', 0.5004235506057739)\n",
      "('calf', 'switch') \n",
      " \n",
      "('calf', 'fork') \n",
      " \n",
      "('calf', 'bug') \n",
      " \n",
      "('calf', 'ice') \n",
      " ('ankle', 0.5185519456863403)\n",
      "\t('knee', 0.5120257139205933)\n",
      "('turkey', 'heart') \n",
      " \n",
      "('turkey', 'switch') \n",
      " \n",
      "('turkey', 'fork') \n",
      " ('backstraps', 0.5364385843276978)\n",
      "\t('spatchcock', 0.5325418710708618)\n",
      "('turkey', 'bug') \n",
      " ('bird', 0.526710569858551)\n",
      "\t('squirrel', 0.5223758220672607)\n",
      "('turkey', 'ice') \n",
      " ('moose', 0.5017349123954773)\n",
      "('heart', 'switch') \n",
      " \n",
      "('heart', 'fork') \n",
      " \n",
      "('heart', 'bug') \n",
      " \n",
      "('heart', 'ice') \n",
      " \n",
      "('switch', 'fork') \n",
      " \n",
      "('switch', 'bug') \n",
      " \n",
      "('switch', 'ice') \n",
      " \n",
      "('fork', 'bug') \n",
      " \n",
      "('fork', 'ice') \n",
      " \n",
      "('bug', 'ice') \n",
      " \n"
     ]
    }
   ],
   "source": [
    "import itertools\n",
    "good = ['tick','well','bank','worm','change','back','fall','row']\n",
    "good = ['degree','parachute','night','canada','litter','shoe','bolt','brush']\n",
    "good = ['ground','post','soldier','lock', 'spy','life','egypt','alps']\n",
    "good = ['berry','calf','turkey','heart','switch','fork','bug','ice']\n",
    "bad = []\n",
    "\n",
    "for combo in list(itertools.combinations(good,2)):\n",
    "    best = model.most_similar_cosmul(list(combo),bad)\n",
    "    best = [t for t in best if '_' not in t[0]]\n",
    "    best = [t for t in best if not t[0][0].isupper()]\n",
    "    best = [t for t in best if combo[0] not in t[0].lower() and combo[1] not in t[0].lower()]\n",
    "    print(combo,'\\n','\\n\\t'.join([str(t) for t in  best if t[1] > 0.5]))"
   ]
  },
  {
   "cell_type": "code",
   "execution_count": 49,
   "metadata": {},
   "outputs": [
    {
     "name": "stdout",
     "output_type": "stream",
     "text": [
      "0.048713997\n"
     ]
    }
   ],
   "source": []
  },
  {
   "cell_type": "code",
   "execution_count": null,
   "metadata": {},
   "outputs": [],
   "source": []
  }
 ],
 "metadata": {
  "kernelspec": {
   "display_name": "Python 3",
   "language": "python",
   "name": "python3"
  },
  "language_info": {
   "codemirror_mode": {
    "name": "ipython",
    "version": 3
   },
   "file_extension": ".py",
   "mimetype": "text/x-python",
   "name": "python",
   "nbconvert_exporter": "python",
   "pygments_lexer": "ipython3",
   "version": "3.7.0"
  }
 },
 "nbformat": 4,
 "nbformat_minor": 2
}
